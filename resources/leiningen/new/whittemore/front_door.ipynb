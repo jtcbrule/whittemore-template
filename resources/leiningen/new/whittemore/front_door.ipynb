{
 "cells": [
  {
   "cell_type": "code",
   "execution_count": 1,
   "metadata": {},
   "outputs": [],
   "source": [
    "(require '[whittemore.core :refer [model q identify data define\n",
    "                                   infer estimate measure categorical]]\n",
    "         '[whittemore.io :refer [read-csv head]]\n",
    "         '[whittemore.plot :refer [plot-p-map plot-univariate]])"
   ]
  },
  {
   "cell_type": "code",
   "execution_count": 2,
   "metadata": {},
   "outputs": [
    {
     "data": {
      "text/html": [
       "<table class=\"dataframe\">\n",
       "<thead>\n",
       "<tr><th>:cancer</th><th>:smoker</th><th>:tar</th></tr>\n",
       "</thead>\n",
       "<tbody>\n",
       "<tr><td>\"no\"</td><td>\"no\"</td><td>\"no\"</td></tr>\n",
       "<tr><td>\"no\"</td><td>\"no\"</td><td>\"no\"</td></tr>\n",
       "<tr><td>\"yes\"</td><td>\"yes\"</td><td>\"yes\"</td></tr>\n",
       "<tr><td>\"yes\"</td><td>\"yes\"</td><td>\"yes\"</td></tr>\n",
       "<tr><td>\"no\"</td><td>\"no\"</td><td>\"no\"</td></tr>\n",
       "<tr><td>\"yes\"</td><td>\"yes\"</td><td>\"yes\"</td></tr>\n",
       "<tr><td>\"no\"</td><td>\"no\"</td><td>\"no\"</td></tr>\n",
       "<tr><td>\"yes\"</td><td>\"no\"</td><td>\"no\"</td></tr>\n",
       "<tr><td>\"no\"</td><td>\"no\"</td><td>\"no\"</td></tr>\n",
       "<tr><td>\"no\"</td><td>\"no\"</td><td>\"no\"</td></tr>\n",
       "</tbody>\n",
       "</table>\n"
      ]
     },
     "execution_count": 2,
     "metadata": {},
     "output_type": "execute_result"
    }
   ],
   "source": [
    "(def smoking-data\n",
    "  \"Synthetic dataset; matches distribution Causality, pg. 84\"\n",
    "  (read-csv \"data/smoking.csv\"))\n",
    "\n",
    "; show the first 10 samples\n",
    "(head smoking-data)"
   ]
  },
  {
   "cell_type": "code",
   "execution_count": 3,
   "metadata": {},
   "outputs": [
    {
     "data": {
      "text/plain": [
       "{:cancer #{\"yes\" \"no\"}, :smoker #{\"yes\" \"no\"}, :tar #{\"yes\" \"no\"}}"
      ]
     },
     "execution_count": 3,
     "metadata": {},
     "output_type": "execute_result"
    }
   ],
   "source": [
    "(def smoking-distribution\n",
    "  (categorical smoking-data))\n",
    "\n",
    "(:support smoking-distribution)"
   ]
  },
  {
   "cell_type": "code",
   "execution_count": 4,
   "metadata": {},
   "outputs": [
    {
     "data": {
      "text/plain": [
       "0.8525"
      ]
     },
     "execution_count": 4,
     "metadata": {},
     "output_type": "execute_result"
    }
   ],
   "source": [
    "(estimate smoking-distribution\n",
    "  (q {:cancer \"yes\"} :given {:smoker \"yes\"}))"
   ]
  },
  {
   "cell_type": "code",
   "execution_count": 5,
   "metadata": {},
   "outputs": [
    {
     "data": {
      "text/plain": [
       "0.0975"
      ]
     },
     "execution_count": 5,
     "metadata": {},
     "output_type": "execute_result"
    }
   ],
   "source": [
    "(estimate smoking-distribution\n",
    "  (q {:cancer \"yes\"} :given {:smoker \"no\"}))"
   ]
  },
  {
   "cell_type": "code",
   "execution_count": 6,
   "metadata": {},
   "outputs": [
    {
     "data": {
      "image/png": "[encoded data removed]"
     },
     "execution_count": 6,
     "metadata": {},
     "output_type": "execute_result"
    }
   ],
   "source": [
    "(plot-p-map\n",
    "  {\"P(cancer | smoker=yes)\"\n",
    "   (estimate smoking-distribution\n",
    "     (q {:cancer \"yes\"} :given {:smoker \"yes\"})),\n",
    "   \"P(cancer | smoker=no)\"\n",
    "   (estimate smoking-distribution\n",
    "     (q {:cancer \"yes\"} :given {:smoker \"no\"}))})"
   ]
  },
  {
   "cell_type": "code",
   "execution_count": 7,
   "metadata": {},
   "outputs": [
    {
     "data": {
      "text/html": [
       "<img src=\"data:image/svg+xml;base64,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\">"
      ]
     },
     "execution_count": 7,
     "metadata": {},
     "output_type": "execute_result"
    }
   ],
   "source": [
    "(def genotype-theory\n",
    "  \"From Causality, pg. 81\"\n",
    "  (model\n",
    "    {:smoker []\n",
    "     :tar [:smoker]\n",
    "     :cancer [:tar]}\n",
    "    #{:smoker :cancer}))\n",
    "\n",
    "genotype-theory"
   ]
  },
  {
   "cell_type": "code",
   "execution_count": 8,
   "metadata": {},
   "outputs": [
    {
     "data": {
      "text/latex": [
       "$$\\left[ \\sum_{\\text{tar}} \\left[ \\sum_{\\text{smoker}} \\frac{\\left[ \\sum_{\\text{cancer}, \\text{tar}} P(\\text{cancer}, \\text{smoker}, \\text{tar}) \\right]}{\\left[ \\sum_{\\text{smoker}} \\left[ \\sum_{\\text{cancer}, \\text{tar}} P(\\text{cancer}, \\text{smoker}, \\text{tar}) \\right] \\right]} \\frac{P(\\text{cancer}, \\text{smoker}, \\text{tar})}{\\left[ \\sum_{\\text{cancer}} P(\\text{cancer}, \\text{smoker}, \\text{tar}) \\right]} \\right] \\frac{\\left[ \\sum_{\\text{cancer}} P(\\text{cancer}, \\text{smoker}, \\text{tar}) \\right]}{\\left[ \\sum_{\\text{tar}} \\left[ \\sum_{\\text{cancer}} P(\\text{cancer}, \\text{smoker}, \\text{tar}) \\right] \\right]} \\right] \\\\ \\text{where: } \\text{smoker}=\\text{\"yes\"}$$"
      ]
     },
     "execution_count": 8,
     "metadata": {},
     "output_type": "execute_result"
    }
   ],
   "source": [
    "(def adjustment\n",
    "  (identify\n",
    "    genotype-theory\n",
    "    (q [:cancer] :do {:smoker \"yes\"})))\n",
    "\n",
    "adjustment"
   ]
  },
  {
   "cell_type": "code",
   "execution_count": 9,
   "metadata": {},
   "outputs": [
    {
     "data": {
      "text/plain": [
       "#whittemore.core.Categorical{:pmf {{:cancer \"yes\"} 0.45250000000000007, {:cancer \"no\"} 0.5475}}"
      ]
     },
     "execution_count": 9,
     "metadata": {},
     "output_type": "execute_result"
    }
   ],
   "source": [
    "(estimate smoking-distribution adjustment)"
   ]
  },
  {
   "cell_type": "code",
   "execution_count": 10,
   "metadata": {},
   "outputs": [
    {
     "data": {
      "text/plain": [
       "0.45250000000000007"
      ]
     },
     "execution_count": 10,
     "metadata": {},
     "output_type": "execute_result"
    }
   ],
   "source": [
    "(measure\n",
    "  (estimate smoking-distribution adjustment)\n",
    "  {:cancer \"yes\"})"
   ]
  },
  {
   "cell_type": "code",
   "execution_count": 11,
   "metadata": {},
   "outputs": [
    {
     "data": {
      "text/plain": [
       "0.45250000000000007"
      ]
     },
     "execution_count": 11,
     "metadata": {},
     "output_type": "execute_result"
    }
   ],
   "source": [
    "(infer\n",
    "  genotype-theory\n",
    "  smoking-distribution\n",
    "  (q {:cancer \"yes\"} :do {:smoker \"yes\"}))"
   ]
  },
  {
   "cell_type": "code",
   "execution_count": 12,
   "metadata": {},
   "outputs": [
    {
     "data": {
      "text/plain": [
       "0.4975"
      ]
     },
     "execution_count": 12,
     "metadata": {},
     "output_type": "execute_result"
    }
   ],
   "source": [
    "(infer\n",
    "  genotype-theory\n",
    "  smoking-distribution\n",
    "  (q {:cancer \"yes\"} :do {:smoker \"no\"}))"
   ]
  },
  {
   "cell_type": "code",
   "execution_count": 13,
   "metadata": {},
   "outputs": [
    {
     "data": {
      "image/png": "[encoded data removed]"
     },
     "execution_count": 13,
     "metadata": {},
     "output_type": "execute_result"
    }
   ],
   "source": [
    "(plot-p-map\n",
    "  {\"P(cancer | do(smoker=yes))\"\n",
    "   (infer\n",
    "     genotype-theory\n",
    "     smoking-distribution\n",
    "     (q {:cancer \"yes\"} :do {:smoker \"yes\"})),\n",
    "   \"P(cancer | do(smoker=no)\"\n",
    "   (infer\n",
    "     genotype-theory\n",
    "     smoking-distribution\n",
    "     (q {:cancer \"yes\"} :do {:smoker \"no\"}))})"
   ]
  },
  {
   "cell_type": "code",
   "execution_count": 14,
   "metadata": {},
   "outputs": [
    {
     "data": {
      "text/latex": [
       "$$\\left[ \\sum_{\\text{tar}} \\left[ \\sum_{\\text{smoker}} \\frac{\\left[ \\sum_{\\text{cancer}, \\text{tar}} P(\\text{cancer}, \\text{smoker}, \\text{tar}) \\right]}{\\left[ \\sum_{\\text{smoker}} \\left[ \\sum_{\\text{cancer}, \\text{tar}} P(\\text{cancer}, \\text{smoker}, \\text{tar}) \\right] \\right]} \\frac{P(\\text{cancer}, \\text{smoker}, \\text{tar})}{\\left[ \\sum_{\\text{cancer}} P(\\text{cancer}, \\text{smoker}, \\text{tar}) \\right]} \\right] \\frac{\\left[ \\sum_{\\text{cancer}} P(\\text{cancer}, \\text{smoker}, \\text{tar}) \\right]}{\\left[ \\sum_{\\text{tar}} \\left[ \\sum_{\\text{cancer}} P(\\text{cancer}, \\text{smoker}, \\text{tar}) \\right] \\right]} \\right] \\\\ \\text{where: } \\text{(unbound)}$$"
      ]
     },
     "execution_count": 14,
     "metadata": {},
     "output_type": "execute_result"
    }
   ],
   "source": [
    "(identify \n",
    "  genotype-theory\n",
    "  (data [:tar :smoker :cancer])\n",
    "  (q [:cancer] :do [:smoker]))"
   ]
  },
  {
   "cell_type": "code",
   "execution_count": 15,
   "metadata": {},
   "outputs": [
    {
     "data": {
      "text/plain": [
       "#whittemore.core.Fail{:cause #{{:hedge #whittemore.core.Model{:pa {:smoker #{}, :cancer #{:smoker}}, :bi #{#{:smoker :cancer}}}, :s #{:cancer}}}}"
      ]
     },
     "execution_count": 15,
     "metadata": {},
     "output_type": "execute_result"
    }
   ],
   "source": [
    "(identify \n",
    "  genotype-theory\n",
    "  (data [:smoker :cancer])\n",
    "  (q [:cancer] :do [:smoker]))"
   ]
  },
  {
   "cell_type": "code",
   "execution_count": null,
   "metadata": {},
   "outputs": [],
   "source": []
  }
 ],
 "metadata": {
  "kernelspec": {
   "display_name": "Lein-Clojure",
   "language": "clojure",
   "name": "lein-clojure"
  },
  "language_info": {
   "file_extension": ".clj",
   "mimetype": "text/x-clojure",
   "name": "clojure",
   "version": "1.8.0"
  }
 },
 "nbformat": 4,
 "nbformat_minor": 2
}
